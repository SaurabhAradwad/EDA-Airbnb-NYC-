{
  "nbformat": 4,
  "nbformat_minor": 0,
  "metadata": {
    "kernelspec": {
      "display_name": "Python 3",
      "language": "python",
      "name": "python3"
    },
    "language_info": {
      "codemirror_mode": {
        "name": "ipython",
        "version": 3
      },
      "file_extension": ".py",
      "mimetype": "text/x-python",
      "name": "python",
      "nbconvert_exporter": "python",
      "pygments_lexer": "ipython3",
      "version": "3.6.6"
    },
    "colab": {
      "name": "Airbnb Bookings Analysis - Capstone Project.ipynb",
      "provenance": [],
      "collapsed_sections": [],
      "include_colab_link": true
    }
  },
  "cells": [
    {
      "cell_type": "markdown",
      "metadata": {
        "id": "view-in-github",
        "colab_type": "text"
      },
      "source": [
        "<a href=\"https://colab.research.google.com/github/SaurabhAradwad/EDA-Capstone/blob/main/Airbnb_Bookings_Analysis_Capstone_Project.ipynb\" target=\"_parent\"><img src=\"https://colab.research.google.com/assets/colab-badge.svg\" alt=\"Open In Colab\"/></a>"
      ]
    },
    {
      "cell_type": "markdown",
      "source": [
        "**Airbnb Booking Analysis**\n",
        "\n",
        "**Capstone Project EDA**\n",
        "\n",
        "**Team - pro-infinity**\n",
        "\n",
        "**Team Members - Ayush Sharma, Saurabh Aradwad, Rishika Rai, Aman Guleria**"
      ],
      "metadata": {
        "id": "a6G-_Q3xkmjF"
      }
    },
    {
      "cell_type": "markdown",
      "source": [
        "**Problem statement**\n",
        "\n",
        ">\n",
        "\n",
        "Airbnb is a privately held website that connects homeowners with travelers looking for\n",
        " accommodations. With the help of few guidelines that allow hosts to compare their listings to\n",
        " others in the area to determine a fair price, Airbnb gives its hosts unlimited freedom\n",
        " to set the price for their units. On the other hand, guests who use Airbnb frequently \n",
        "experience lodging issues for a variety of reasons. Seasonal rushes, unforeseen \n",
        "cancellations of reservations, host preferences, etc. may all fall under this category.\n",
        "\n",
        "Airbnb wants to know more about their customers and providers (hosts) so, What kind of measures can be taken to improve security, What can be their \n",
        "\n",
        "* Which are the busiest or least busy areas according to customers or hosts and why?\n",
        "* What is our new marketing initiatives as well as the implementation of innovative additional services? \n",
        "*  What can we learn from different pricing in different areas?\n",
        "*  What can be their further business decisions?"
      ],
      "metadata": {
        "id": "9iZqN8VolbaK"
      }
    },
    {
      "cell_type": "markdown",
      "source": [
        "### Basic imports and csv mounting "
      ],
      "metadata": {
        "id": "eYO6Ln1wBjNV"
      }
    },
    {
      "cell_type": "code",
      "metadata": {
        "id": "dByMsuzT8Tnw"
      },
      "source": [
        "# Importing all the required libraries for the analysis of given dataset\n",
        "import numpy as np\n",
        "import pandas as pd\n",
        "import matplotlib.pyplot as plt\n",
        "%matplotlib inline\n",
        "import seaborn as sns"
      ],
      "execution_count": null,
      "outputs": []
    },
    {
      "cell_type": "code",
      "source": [
        "# Connecting to GitHub repository \n",
        "\n",
        "!git clone https://github.com/SaurabhAradwad/EDA-Capstone.git"
      ],
      "metadata": {
        "id": "VY2CB6oQ3euR",
        "colab": {
          "base_uri": "https://localhost:8080/"
        },
        "outputId": "f94bc374-9643-4f39-f736-93f4dcebf9fd"
      },
      "execution_count": null,
      "outputs": [
        {
          "output_type": "stream",
          "name": "stdout",
          "text": [
            "fatal: destination path 'EDA-Capstone' already exists and is not an empty directory.\n"
          ]
        }
      ]
    },
    {
      "cell_type": "code",
      "source": [
        "# importing csv file\n",
        "\n",
        "airbnb = pd.read_csv(\"/content/EDA-Capstone/Airbnb NYC 2019.csv\")\n",
        " "
      ],
      "metadata": {
        "id": "H0d8A-mf31rT"
      },
      "execution_count": null,
      "outputs": []
    },
    {
      "cell_type": "code",
      "source": [
        "airbnb"
      ],
      "metadata": {
        "id": "riPAvbEYB9tX"
      },
      "execution_count": null,
      "outputs": []
    },
    {
      "cell_type": "code",
      "source": [
        "# Computing Dataset length using length function \n",
        "\n",
        "len(airbnb)"
      ],
      "metadata": {
        "id": "Xn5HlEmsmgAX",
        "colab": {
          "base_uri": "https://localhost:8080/"
        },
        "outputId": "7b493630-4f48-4b4d-b258-7315b66e7211"
      },
      "execution_count": null,
      "outputs": [
        {
          "output_type": "execute_result",
          "data": {
            "text/plain": [
              "48895"
            ]
          },
          "metadata": {},
          "execution_count": 64
        }
      ]
    },
    {
      "cell_type": "code",
      "source": [
        "# Checking All 16 columns \n",
        "airbnb.columns"
      ],
      "metadata": {
        "id": "dI77lHsZmf9f",
        "colab": {
          "base_uri": "https://localhost:8080/"
        },
        "outputId": "0de4b601-33fe-47f0-8cec-d5c711e96850"
      },
      "execution_count": null,
      "outputs": [
        {
          "output_type": "execute_result",
          "data": {
            "text/plain": [
              "Index(['id', 'name', 'host_id', 'host_name', 'neighbourhood_group',\n",
              "       'neighbourhood', 'latitude', 'longitude', 'room_type', 'price',\n",
              "       'minimum_nights', 'number_of_reviews', 'last_review',\n",
              "       'reviews_per_month', 'calculated_host_listings_count',\n",
              "       'availability_365'],\n",
              "      dtype='object')"
            ]
          },
          "metadata": {},
          "execution_count": 65
        }
      ]
    },
    {
      "cell_type": "code",
      "source": [
        "# Analysing Columns Data with the help of transpose\n",
        "\n",
        "airbnb.head().T"
      ],
      "metadata": {
        "id": "u7GQUJNpkIlH"
      },
      "execution_count": null,
      "outputs": []
    },
    {
      "cell_type": "code",
      "source": [
        "# Checking For NULL values(Checking missing or Zero(0) or values which is not avaible)\n",
        "\n",
        "airbnb.isnull().sum()"
      ],
      "metadata": {
        "id": "36p_sUDKmf6r"
      },
      "execution_count": null,
      "outputs": []
    },
    {
      "cell_type": "markdown",
      "source": [
        "### No any requirement for treating  Null values \n"
      ],
      "metadata": {
        "id": "CFhO4B7TvPiO"
      }
    },
    {
      "cell_type": "code",
      "source": [
        "# Checking last rows with the help of tail method\n",
        "\n",
        "airbnb.tail()"
      ],
      "metadata": {
        "id": "gtWtgtKfk2oI"
      },
      "execution_count": null,
      "outputs": []
    },
    {
      "cell_type": "code",
      "source": [
        "# Detailed reviwe of entire data including all entries, null info, datatype \n",
        "\n",
        "airbnb.info()"
      ],
      "metadata": {
        "id": "nViTcqXjnfo0"
      },
      "execution_count": null,
      "outputs": []
    },
    {
      "cell_type": "markdown",
      "source": [
        "### Which are the busiest or least busy areas according to customers or hosts and why?"
      ],
      "metadata": {
        "id": "AWFPpzdHvtrT"
      }
    },
    {
      "cell_type": "code",
      "source": [
        "# Which are the busiest or least busy areas according to customers or hosts and why?\n",
        "\n",
        "# Droping some of the columns for further analysis(selction of columns is done on the basis of areas and host info)\n",
        "\n",
        "airbnb.drop(['id','name','latitude','longitude','number_of_reviews','last_review','reviews_per_month'], axis=1, inplace=True)\n",
        "airbnb.head()"
      ],
      "metadata": {
        "id": "-93IDO52mfy0"
      },
      "execution_count": null,
      "outputs": []
    },
    {
      "cell_type": "code",
      "source": [
        "# Examining the unique values of n_group as this column will appear very handy for later analysis\n",
        "\n",
        "u_neighbourhood_group = airbnb.neighbourhood_group.unique()\n",
        "\n",
        "print(u_neighbourhood_group)"
      ],
      "metadata": {
        "colab": {
          "base_uri": "https://localhost:8080/"
        },
        "id": "LHLADjA-tXco",
        "outputId": "c5a6e49c-9d64-4846-addc-50b210d55d8d"
      },
      "execution_count": null,
      "outputs": [
        {
          "output_type": "stream",
          "name": "stdout",
          "text": [
            "['Brooklyn' 'Manhattan' 'Queens' 'Staten Island' 'Bronx']\n"
          ]
        }
      ]
    },
    {
      "cell_type": "code",
      "source": [
        "# Examining the unique values of neighbourhood as this column will appear very handy for later analysis\n",
        "\n",
        "U_ne = airbnb.neighbourhood.unique()\n",
        "print(U_ne)"
      ],
      "metadata": {
        "id": "YqjaSuE6h39g"
      },
      "execution_count": null,
      "outputs": []
    },
    {
      "cell_type": "code",
      "source": [
        "len(U_ne)"
      ],
      "metadata": {
        "colab": {
          "base_uri": "https://localhost:8080/"
        },
        "id": "dkT3RbA6iYUL",
        "outputId": "a723e39d-a6de-4a7c-d69a-aba9d37ee7eb"
      },
      "execution_count": null,
      "outputs": [
        {
          "output_type": "execute_result",
          "data": {
            "text/plain": [
              "221"
            ]
          },
          "metadata": {},
          "execution_count": 16
        }
      ]
    },
    {
      "cell_type": "code",
      "source": [
        "# Selcting unique values for finding out busy areas with the help of neighbourhood_groups, "
      ],
      "metadata": {
        "id": "7JwC7WnWw12c"
      },
      "execution_count": null,
      "outputs": []
    },
    {
      "cell_type": "code",
      "source": [
        "#\n",
        "\n",
        "pd.value_counts(airbnb['availability_365']).plot(kind=\"line\");"
      ],
      "metadata": {
        "colab": {
          "base_uri": "https://localhost:8080/",
          "height": 265
        },
        "id": "bT5SIZI5kkmm",
        "outputId": "76110c44-c50f-468e-c898-d248bd47ba42"
      },
      "execution_count": null,
      "outputs": [
        {
          "output_type": "display_data",
          "data": {
            "text/plain": [
              "<Figure size 432x288 with 1 Axes>"
            ],
            "image/png": "[encoded data removed]"
          },
          "metadata": {
            "needs_background": "light"
          }
        }
      ]
    },
    {
      "cell_type": "code",
      "source": [
        "# \n",
        "\n",
        "sns.countplot(airbnb.neighbourhood_group);"
      ],
      "metadata": {
        "colab": {
          "base_uri": "https://localhost:8080/",
          "height": 335
        },
        "id": "iuczSNvtjhXL",
        "outputId": "02b4c836-5ace-499a-9592-776a6ad6edff"
      },
      "execution_count": null,
      "outputs": [
        {
          "output_type": "stream",
          "name": "stderr",
          "text": [
            "/usr/local/lib/python3.7/dist-packages/seaborn/_decorators.py:43: FutureWarning: Pass the following variable as a keyword arg: x. From version 0.12, the only valid positional argument will be `data`, and passing other arguments without an explicit keyword will result in an error or misinterpretation.\n",
            "  FutureWarning\n"
          ]
        },
        {
          "output_type": "display_data",
          "data": {
            "text/plain": [
              "<Figure size 432x288 with 1 Axes>"
            ],
            "image/png": "[encoded data removed]"
          },
          "metadata": {
            "needs_background": "light"
          }
        }
      ]
    },
    {
      "cell_type": "markdown",
      "source": [
        ""
      ],
      "metadata": {
        "id": "aQDDuWLL_hso"
      }
    },
    {
      "cell_type": "code",
      "source": [
        "# examining the unique values of room_type as this column will appear very handy for later analysis\n",
        "\n",
        "airbnb.room_type.unique()"
      ],
      "metadata": {
        "colab": {
          "base_uri": "https://localhost:8080/"
        },
        "id": "X_9_pUw0kSDx",
        "outputId": "d2f58650-cd1a-4765-9efa-235f5e9b57b9"
      },
      "execution_count": null,
      "outputs": [
        {
          "output_type": "execute_result",
          "data": {
            "text/plain": [
              "array(['Private room', 'Entire home/apt', 'Shared room'], dtype=object)"
            ]
          },
          "metadata": {},
          "execution_count": 20
        }
      ]
    },
    {
      "cell_type": "code",
      "source": [
        "# \n",
        "\n",
        "sns.countplot(airbnb.room_type);"
      ],
      "metadata": {
        "colab": {
          "base_uri": "https://localhost:8080/",
          "height": 335
        },
        "id": "osEFPW0fkWS7",
        "outputId": "f6798882-7816-4d2d-ddae-fab75bc4bfc2"
      },
      "execution_count": null,
      "outputs": [
        {
          "output_type": "stream",
          "name": "stderr",
          "text": [
            "/usr/local/lib/python3.7/dist-packages/seaborn/_decorators.py:43: FutureWarning: Pass the following variable as a keyword arg: x. From version 0.12, the only valid positional argument will be `data`, and passing other arguments without an explicit keyword will result in an error or misinterpretation.\n",
            "  FutureWarning\n"
          ]
        },
        {
          "output_type": "display_data",
          "data": {
            "text/plain": [
              "<Figure size 432x288 with 1 Axes>"
            ],
            "image/png": "[encoded data removed]"
          },
          "metadata": {
            "needs_background": "light"
          }
        }
      ]
    },
    {
      "cell_type": "code",
      "source": [
        "# What is our new marketing initiatives as well as the implementation of innovative additional services?\n",
        "\n",
        "\n"
      ],
      "metadata": {
        "id": "T0d0cNEoabid"
      },
      "execution_count": null,
      "outputs": []
    },
    {
      "cell_type": "code",
      "source": [
        ""
      ],
      "metadata": {
        "id": "kZFOnOKB_yPN"
      },
      "execution_count": null,
      "outputs": []
    },
    {
      "cell_type": "code",
      "source": [
        ""
      ],
      "metadata": {
        "id": "tPB-qtwQ_yLt"
      },
      "execution_count": null,
      "outputs": []
    },
    {
      "cell_type": "code",
      "source": [
        ""
      ],
      "metadata": {
        "id": "J6Vqj1SK_yIB"
      },
      "execution_count": null,
      "outputs": []
    },
    {
      "cell_type": "code",
      "source": [
        ""
      ],
      "metadata": {
        "id": "owzfqISI_yEd"
      },
      "execution_count": null,
      "outputs": []
    },
    {
      "cell_type": "code",
      "source": [
        ""
      ],
      "metadata": {
        "id": "3Ee9n1HI_yAl"
      },
      "execution_count": null,
      "outputs": []
    },
    {
      "cell_type": "code",
      "source": [
        ""
      ],
      "metadata": {
        "id": "QSQealxw_x87"
      },
      "execution_count": null,
      "outputs": []
    },
    {
      "cell_type": "code",
      "source": [
        ""
      ],
      "metadata": {
        "id": "OjsF20Jn_x5P"
      },
      "execution_count": null,
      "outputs": []
    },
    {
      "cell_type": "code",
      "source": [
        ""
      ],
      "metadata": {
        "id": "6cJ4eY0-_xcL"
      },
      "execution_count": null,
      "outputs": []
    }
  ]
}